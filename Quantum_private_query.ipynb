{
  "nbformat": 4,
  "nbformat_minor": 0,
  "metadata": {
    "colab": {
      "provenance": []
    },
    "kernelspec": {
      "name": "python3",
      "display_name": "Python 3"
    },
    "language_info": {
      "name": "python"
    }
  },
  "cells": [
    {
      "cell_type": "markdown",
      "source": [
        "# Installation"
      ],
      "metadata": {
        "id": "ZOQfP8i1Asqb"
      }
    },
    {
      "cell_type": "code",
      "source": [
        "!pip install qiskit\n",
        "!pip install pylatexenc\n",
        "!pip install qiskit-aer"
      ],
      "metadata": {
        "colab": {
          "base_uri": "https://localhost:8080/"
        },
        "id": "5zxQA5YMFQCr",
        "outputId": "331cfb62-3f8a-459c-ad15-5afcbd998e2d"
      },
      "execution_count": null,
      "outputs": [
        {
          "output_type": "stream",
          "name": "stdout",
          "text": [
            "Collecting qiskit\n",
            "  Downloading qiskit-2.1.0-cp39-abi3-manylinux_2_17_x86_64.manylinux2014_x86_64.whl.metadata (12 kB)\n",
            "Collecting rustworkx>=0.15.0 (from qiskit)\n",
            "  Downloading rustworkx-0.16.0-cp39-abi3-manylinux_2_17_x86_64.manylinux2014_x86_64.whl.metadata (10 kB)\n",
            "Requirement already satisfied: numpy<3,>=1.17 in /usr/local/lib/python3.11/dist-packages (from qiskit) (2.0.2)\n",
            "Requirement already satisfied: scipy>=1.5 in /usr/local/lib/python3.11/dist-packages (from qiskit) (1.15.3)\n",
            "Requirement already satisfied: dill>=0.3 in /usr/local/lib/python3.11/dist-packages (from qiskit) (0.3.7)\n",
            "Collecting stevedore>=3.0.0 (from qiskit)\n",
            "  Downloading stevedore-5.4.1-py3-none-any.whl.metadata (2.3 kB)\n",
            "Requirement already satisfied: typing-extensions in /usr/local/lib/python3.11/dist-packages (from qiskit) (4.14.0)\n",
            "Collecting pbr>=2.0.0 (from stevedore>=3.0.0->qiskit)\n",
            "  Downloading pbr-6.1.1-py2.py3-none-any.whl.metadata (3.4 kB)\n",
            "Requirement already satisfied: setuptools in /usr/local/lib/python3.11/dist-packages (from pbr>=2.0.0->stevedore>=3.0.0->qiskit) (75.2.0)\n",
            "Downloading qiskit-2.1.0-cp39-abi3-manylinux_2_17_x86_64.manylinux2014_x86_64.whl (7.5 MB)\n",
            "\u001b[2K   \u001b[90m━━━━━━━━━━━━━━━━━━━━━━━━━━━━━━━━━━━━━━━━\u001b[0m \u001b[32m7.5/7.5 MB\u001b[0m \u001b[31m35.9 MB/s\u001b[0m eta \u001b[36m0:00:00\u001b[0m\n",
            "\u001b[?25hDownloading rustworkx-0.16.0-cp39-abi3-manylinux_2_17_x86_64.manylinux2014_x86_64.whl (2.1 MB)\n",
            "\u001b[2K   \u001b[90m━━━━━━━━━━━━━━━━━━━━━━━━━━━━━━━━━━━━━━━━\u001b[0m \u001b[32m2.1/2.1 MB\u001b[0m \u001b[31m53.2 MB/s\u001b[0m eta \u001b[36m0:00:00\u001b[0m\n",
            "\u001b[?25hDownloading stevedore-5.4.1-py3-none-any.whl (49 kB)\n",
            "\u001b[2K   \u001b[90m━━━━━━━━━━━━━━━━━━━━━━━━━━━━━━━━━━━━━━━━\u001b[0m \u001b[32m49.5/49.5 kB\u001b[0m \u001b[31m4.1 MB/s\u001b[0m eta \u001b[36m0:00:00\u001b[0m\n",
            "\u001b[?25hDownloading pbr-6.1.1-py2.py3-none-any.whl (108 kB)\n",
            "\u001b[2K   \u001b[90m━━━━━━━━━━━━━━━━━━━━━━━━━━━━━━━━━━━━━━━━\u001b[0m \u001b[32m109.0/109.0 kB\u001b[0m \u001b[31m7.8 MB/s\u001b[0m eta \u001b[36m0:00:00\u001b[0m\n",
            "\u001b[?25hInstalling collected packages: rustworkx, pbr, stevedore, qiskit\n",
            "Successfully installed pbr-6.1.1 qiskit-2.1.0 rustworkx-0.16.0 stevedore-5.4.1\n",
            "Collecting pylatexenc\n",
            "  Downloading pylatexenc-2.10.tar.gz (162 kB)\n",
            "\u001b[2K     \u001b[90m━━━━━━━━━━━━━━━━━━━━━━━━━━━━━━━━━━━━━━━\u001b[0m \u001b[32m162.6/162.6 kB\u001b[0m \u001b[31m5.7 MB/s\u001b[0m eta \u001b[36m0:00:00\u001b[0m\n",
            "\u001b[?25h  Preparing metadata (setup.py) ... \u001b[?25l\u001b[?25hdone\n",
            "Building wheels for collected packages: pylatexenc\n",
            "  Building wheel for pylatexenc (setup.py) ... \u001b[?25l\u001b[?25hdone\n",
            "  Created wheel for pylatexenc: filename=pylatexenc-2.10-py3-none-any.whl size=136817 sha256=198fc140a2aeddb8c1ef405b7aa7478149caeeb5bc74fbf24ad7df46309e05cb\n",
            "  Stored in directory: /root/.cache/pip/wheels/b1/7a/33/9fdd892f784ed4afda62b685ae3703adf4c91aa0f524c28f03\n",
            "Successfully built pylatexenc\n",
            "Installing collected packages: pylatexenc\n",
            "Successfully installed pylatexenc-2.10\n",
            "Collecting qiskit-aer\n",
            "  Downloading qiskit_aer-0.17.1-cp311-cp311-manylinux_2_17_x86_64.manylinux2014_x86_64.whl.metadata (8.3 kB)\n",
            "Requirement already satisfied: qiskit>=1.1.0 in /usr/local/lib/python3.11/dist-packages (from qiskit-aer) (2.1.0)\n",
            "Requirement already satisfied: numpy>=1.16.3 in /usr/local/lib/python3.11/dist-packages (from qiskit-aer) (2.0.2)\n",
            "Requirement already satisfied: scipy>=1.0 in /usr/local/lib/python3.11/dist-packages (from qiskit-aer) (1.15.3)\n",
            "Requirement already satisfied: psutil>=5 in /usr/local/lib/python3.11/dist-packages (from qiskit-aer) (5.9.5)\n",
            "Requirement already satisfied: python-dateutil>=2.8.0 in /usr/local/lib/python3.11/dist-packages (from qiskit-aer) (2.9.0.post0)\n",
            "Requirement already satisfied: six>=1.5 in /usr/local/lib/python3.11/dist-packages (from python-dateutil>=2.8.0->qiskit-aer) (1.17.0)\n",
            "Requirement already satisfied: rustworkx>=0.15.0 in /usr/local/lib/python3.11/dist-packages (from qiskit>=1.1.0->qiskit-aer) (0.16.0)\n",
            "Requirement already satisfied: dill>=0.3 in /usr/local/lib/python3.11/dist-packages (from qiskit>=1.1.0->qiskit-aer) (0.3.7)\n",
            "Requirement already satisfied: stevedore>=3.0.0 in /usr/local/lib/python3.11/dist-packages (from qiskit>=1.1.0->qiskit-aer) (5.4.1)\n",
            "Requirement already satisfied: typing-extensions in /usr/local/lib/python3.11/dist-packages (from qiskit>=1.1.0->qiskit-aer) (4.14.0)\n",
            "Requirement already satisfied: pbr>=2.0.0 in /usr/local/lib/python3.11/dist-packages (from stevedore>=3.0.0->qiskit>=1.1.0->qiskit-aer) (6.1.1)\n",
            "Requirement already satisfied: setuptools in /usr/local/lib/python3.11/dist-packages (from pbr>=2.0.0->stevedore>=3.0.0->qiskit>=1.1.0->qiskit-aer) (75.2.0)\n",
            "Downloading qiskit_aer-0.17.1-cp311-cp311-manylinux_2_17_x86_64.manylinux2014_x86_64.whl (12.4 MB)\n",
            "\u001b[2K   \u001b[90m━━━━━━━━━━━━━━━━━━━━━━━━━━━━━━━━━━━━━━━━\u001b[0m \u001b[32m12.4/12.4 MB\u001b[0m \u001b[31m45.9 MB/s\u001b[0m eta \u001b[36m0:00:00\u001b[0m\n",
            "\u001b[?25hInstalling collected packages: qiskit-aer\n",
            "Successfully installed qiskit-aer-0.17.1\n"
          ]
        }
      ]
    },
    {
      "cell_type": "code",
      "source": [
        "# useful additional packages\n",
        "from qiskit import *\n",
        "from qiskit_aer import Aer\n",
        "from qiskit.providers.basic_provider import BasicProvider\n",
        "import math\n",
        "import numpy as np\n",
        "import random\n",
        "import re\n",
        "\n",
        "# importing the QISKit\n",
        "from qiskit import QuantumCircuit, QuantumRegister, ClassicalRegister"
      ],
      "metadata": {
        "id": "h23JJQDNARhm"
      },
      "execution_count": null,
      "outputs": []
    },
    {
      "cell_type": "code",
      "source": [
        "qr = QuantumRegister(3, name=\"qr\")\n",
        "cr= ClassicalRegister(3, name=\"cr\")\n",
        "singlet = QuantumCircuit(qr, cr, name='singlet')\n",
        "singlet.draw(output='mpl')"
      ],
      "metadata": {
        "colab": {
          "base_uri": "https://localhost:8080/",
          "height": 320
        },
        "id": "DXM9cN2IGcAK",
        "outputId": "2cf561cd-7128-45f4-dbbf-8be6d2017200"
      },
      "execution_count": null,
      "outputs": [
        {
          "output_type": "execute_result",
          "data": {
            "text/plain": [
              "<Figure size 174.099x367.889 with 1 Axes>"
            ],
            "image/png": "[encoded data removed]"
          },
          "metadata": {},
          "execution_count": 34
        }
      ]
    },
    {
      "cell_type": "markdown",
      "source": [
        "# Charlie prepares some W states and nonorthogonal states. In which the W state is:\n",
        "$$\n",
        "\\left| W \\right\\rangle = \\frac{1}{\\sqrt{3}} \\left( \\left| 100 \\right\\rangle + \\left| 010 \\right\\rangle + \\left| 001 \\right\\rangle \\right)\n",
        "$$"
      ],
      "metadata": {
        "id": "YgxCg7oWAGOc"
      }
    },
    {
      "cell_type": "code",
      "source": [
        "# circuits with W-state\n",
        "W_state = QuantumCircuit(qr, cr, name='W_state')\n",
        "W_state.ry(1.91063324, qr[0])\n",
        "W_state.ch(qr[0], qr[1])\n",
        "W_state.cx(qr[1], qr[2])\n",
        "W_state.cx(qr[0], qr[1])\n",
        "W_state.x(qr[0])\n",
        "W_state.draw(output='mpl')"
      ],
      "metadata": {
        "id": "1yqJ4eHUG2dg",
        "colab": {
          "base_uri": "https://localhost:8080/",
          "height": 320
        },
        "outputId": "feaf6945-5fb5-4b57-c0b1-533ad649d603"
      },
      "execution_count": null,
      "outputs": [
        {
          "output_type": "execute_result",
          "data": {
            "text/plain": [
              "<Figure size 550.349x367.889 with 1 Axes>"
            ],
            "image/png": "[encoded data removed]"
          },
          "metadata": {},
          "execution_count": 35
        }
      ]
    },
    {
      "cell_type": "markdown",
      "source": [
        "# The nonorthogonal states are:\n",
        "$$\\{ \\left|0\\right\\rangle, \\left|1\\right\\rangle, \\left|+\\right\\rangle, \\left|-\\right\\rangle \\}\n",
        "$$\n"
      ],
      "metadata": {
        "id": "kl1fiRrdA2W9"
      }
    },
    {
      "cell_type": "code",
      "source": [
        "#Circuits with state ket(1)\n",
        "ket_one = QuantumCircuit(qr, cr, name='ket_one')\n",
        "ket_one.x(qr[0])\n",
        "ket_one.x(qr[1])\n",
        "ket_one.x(qr[2])\n",
        "ket_one.draw(output='mpl')"
      ],
      "metadata": {
        "colab": {
          "base_uri": "https://localhost:8080/",
          "height": 320
        },
        "id": "O03fSHTCIHIo",
        "outputId": "2b95c9d0-ec39-4890-f110-a00ff2502d2f"
      },
      "execution_count": null,
      "outputs": [
        {
          "output_type": "execute_result",
          "data": {
            "text/plain": [
              "<Figure size 215.904x367.889 with 1 Axes>"
            ],
            "image/png": "[encoded data removed]"
          },
          "metadata": {},
          "execution_count": 36
        }
      ]
    },
    {
      "cell_type": "code",
      "source": [
        "#Circuits with state ket(0)\n",
        "ket_zero = QuantumCircuit(qr, cr, name='ket_zero')\n",
        "ket_zero.draw(output='mpl')"
      ],
      "metadata": {
        "colab": {
          "base_uri": "https://localhost:8080/",
          "height": 320
        },
        "id": "wqWAKXEgIvpO",
        "outputId": "573db67b-b93d-49b3-db32-458559640fd0"
      },
      "execution_count": null,
      "outputs": [
        {
          "output_type": "execute_result",
          "data": {
            "text/plain": [
              "<Figure size 174.099x367.889 with 1 Axes>"
            ],
            "image/png": "[encoded data removed]"
          },
          "metadata": {},
          "execution_count": 37
        }
      ]
    },
    {
      "cell_type": "code",
      "source": [
        "#Circuits with state |+>\n",
        "ket_plus = QuantumCircuit(qr, cr, name='ket_plus')\n",
        "ket_plus.h(qr[0])\n",
        "ket_plus.h(qr[1])\n",
        "ket_plus.h(qr[2])\n",
        "ket_plus.draw(output='mpl')"
      ],
      "metadata": {
        "colab": {
          "base_uri": "https://localhost:8080/",
          "height": 320
        },
        "id": "U_iY7sI9I68P",
        "outputId": "1e7fc781-fcd2-4020-d2df-ab87ae27788f"
      },
      "execution_count": null,
      "outputs": [
        {
          "output_type": "execute_result",
          "data": {
            "text/plain": [
              "<Figure size 215.904x367.889 with 1 Axes>"
            ],
            "image/png": "[encoded data removed]"
          },
          "metadata": {},
          "execution_count": 38
        }
      ]
    },
    {
      "cell_type": "code",
      "source": [
        "#Circuits with state |->\n",
        "ket_minus = QuantumCircuit(qr, cr, name='ket_minus')\n",
        "ket_minus.x(qr[0])\n",
        "ket_minus.x(qr[1])\n",
        "ket_minus.x(qr[2])\n",
        "ket_minus.h(qr[0])\n",
        "ket_minus.h(qr[1])\n",
        "ket_minus.h(qr[2])\n",
        "ket_minus.draw(output='mpl')"
      ],
      "metadata": {
        "colab": {
          "base_uri": "https://localhost:8080/",
          "height": 320
        },
        "id": "B_Wl1e--JKUx",
        "outputId": "80159598-f037-400d-ffcd-e9d79169a2af"
      },
      "execution_count": null,
      "outputs": [
        {
          "output_type": "execute_result",
          "data": {
            "text/plain": [
              "<Figure size 299.515x367.889 with 1 Axes>"
            ],
            "image/png": "[encoded data removed]"
          },
          "metadata": {},
          "execution_count": 39
        }
      ]
    },
    {
      "cell_type": "code",
      "source": [
        "numberOfCircuits = 200\n",
        "random_list = random.choices([1]*80 + [2]*5 + [3]*5 + [4]*5 + [5]*5, k=numberOfCircuits)\n",
        "print(random_list)"
      ],
      "metadata": {
        "colab": {
          "base_uri": "https://localhost:8080/"
        },
        "id": "a8Yc1BmFJ0VH",
        "outputId": "94d91ae7-4fff-4292-f668-bbf759f8414e"
      },
      "execution_count": null,
      "outputs": [
        {
          "output_type": "stream",
          "name": "stdout",
          "text": [
            "[1, 1, 1, 5, 1, 1, 1, 1, 1, 1, 1, 1, 1, 1, 2, 1, 1, 1, 2, 1, 1, 1, 5, 1, 1, 1, 1, 2, 1, 1, 5, 1, 4, 5, 5, 1, 1, 1, 1, 1, 1, 1, 1, 1, 1, 1, 1, 1, 1, 2, 1, 1, 1, 5, 1, 1, 1, 1, 1, 1, 1, 1, 1, 1, 3, 1, 1, 1, 1, 1, 1, 3, 1, 5, 1, 1, 3, 1, 1, 1, 5, 4, 1, 1, 1, 4, 2, 1, 1, 1, 1, 1, 1, 1, 1, 1, 3, 1, 1, 5, 1, 3, 1, 5, 1, 1, 3, 1, 1, 3, 1, 1, 1, 1, 1, 1, 2, 1, 1, 4, 1, 1, 1, 2, 1, 1, 1, 1, 1, 1, 2, 1, 1, 1, 1, 1, 4, 1, 1, 3, 1, 1, 1, 1, 1, 1, 1, 1, 1, 1, 5, 3, 1, 1, 4, 1, 1, 1, 1, 1, 1, 1, 1, 3, 4, 3, 1, 1, 1, 1, 1, 1, 1, 1, 1, 1, 1, 3, 1, 1, 1, 1, 1, 1, 1, 1, 5, 1, 1, 2, 1, 4, 1, 1, 1, 1, 5, 2, 1, 1]\n"
          ]
        }
      ]
    },
    {
      "cell_type": "code",
      "source": [
        "circuits= [] #the list in which the created circuits will be stored\n",
        "\n",
        "for i in range(numberOfCircuits):\n",
        "  if random_list[i] == 1:\n",
        "    circuitName = singlet & W_state\n",
        "    circuitName.barrier()\n",
        "    circuits.append(circuitName)\n",
        "  if random_list[i] == 2:\n",
        "    circuitName = singlet & ket_zero\n",
        "    circuitName.barrier()\n",
        "    circuits.append(circuitName)\n",
        "  if random_list[i] == 3:\n",
        "    circuitName = singlet & ket_one\n",
        "    circuitName.barrier()\n",
        "    circuits.append(circuitName)\n",
        "  if random_list[i] == 4:\n",
        "    circuitName = singlet & ket_plus\n",
        "    circuitName.barrier()\n",
        "    circuits.append(circuitName)\n",
        "  if random_list[i] == 5:\n",
        "    circuitName = singlet & ket_minus\n",
        "    circuitName.barrier()\n",
        "    circuits.append(circuitName)"
      ],
      "metadata": {
        "id": "I-Anz4leKXwu"
      },
      "execution_count": null,
      "outputs": []
    },
    {
      "cell_type": "code",
      "source": [
        "circuits[1].draw('mpl')"
      ],
      "metadata": {
        "colab": {
          "base_uri": "https://localhost:8080/",
          "height": 320
        },
        "id": "KPlJ_qR9LXTg",
        "outputId": "3a96de63-3c0e-4d28-fb0f-94035518e61d"
      },
      "execution_count": null,
      "outputs": [
        {
          "output_type": "execute_result",
          "data": {
            "text/plain": [
              "<Figure size 633.96x367.889 with 1 Axes>"
            ],
            "image/png": "[encoded data removed]"
          },
          "metadata": {},
          "execution_count": 14
        }
      ]
    },
    {
      "cell_type": "markdown",
      "source": [
        "# Each measures their particle sequences using randomly chosen bases, either the X basis or the Z basis."
      ],
      "metadata": {
        "id": "x-bcUl0lBQDz"
      }
    },
    {
      "cell_type": "code",
      "source": [
        "aliceMeasurementChoices = [random.randint(1,2) for i in range(numberOfCircuits)] #string b of Alice\n",
        "bobMeasurementChoices = [random.randint(1,2) for i in range(numberOfCircuits)]  #string b' of Bob\n",
        "charlieMeasurementChoices = [random.randint(1,2) for i in range(numberOfCircuits)]\n",
        "\n",
        "#Measure the spin projection of qubit onto the X_basis\n",
        "measureA1 = QuantumCircuit(qr, cr, name='measureA1')\n",
        "measureA1.h(qr[1])\n",
        "measureA1.measure(qr[1], cr[1])\n",
        "\n",
        "#Measure the spin projection of qubit onto the Z_basis\n",
        "measureA2 = QuantumCircuit(qr, cr, name='measureA2')\n",
        "measureA2.measure(qr[1], cr[1])\n",
        "\n",
        "aliceMeasurements = [measureA1, measureA2]\n",
        "\n",
        "#Measure the spin projection of qubit onto the X_basis\n",
        "measureB1 = QuantumCircuit(qr, cr, name='measureB1')\n",
        "measureB1.h(qr[2])\n",
        "measureB1.measure(qr[2], cr[2])\n",
        "\n",
        "#Measure the spin projection of qubit onto the Z_basis\n",
        "measureB2 = QuantumCircuit(qr, cr, name='measureB2')\n",
        "measureB2.measure(qr[2], cr[2])\n",
        "\n",
        "bobMeasurements = [measureB1, measureB2]\n",
        "\n",
        "#Measure the spin projection of qubit onto the X_basis\n",
        "measureC1 = QuantumCircuit(qr, cr, name='measureC1')\n",
        "measureC1.h(qr[0])\n",
        "measureC1.measure(qr[0], cr[0])\n",
        "\n",
        "#Measure the spin projection of qubit onto the Z_basis\n",
        "measureC2 = QuantumCircuit(qr, cr, name='measureC2')\n",
        "measureC2.measure(qr[0], cr[0])\n",
        "\n",
        "charlieMeasurements = [measureC1, measureC2]\n"
      ],
      "metadata": {
        "id": "4ETcIYwkL5-i"
      },
      "execution_count": null,
      "outputs": []
    },
    {
      "cell_type": "code",
      "source": [
        "circuits_measurement = []\n",
        "for i in range(numberOfCircuits):\n",
        "    circuitName = circuits[i] & aliceMeasurements[aliceMeasurementChoices[i]-1] & bobMeasurements[bobMeasurementChoices[i]-1] & charlieMeasurements[charlieMeasurementChoices[i]-1]\n",
        "    circuits_measurement.append(circuitName)"
      ],
      "metadata": {
        "id": "qOF8nmG6Ndj7"
      },
      "execution_count": null,
      "outputs": []
    },
    {
      "cell_type": "code",
      "source": [
        "circuits_measurement[1].draw('mpl')"
      ],
      "metadata": {
        "colab": {
          "base_uri": "https://localhost:8080/",
          "height": 320
        },
        "id": "wPIppQAuOILm",
        "outputId": "d0380497-3d91-4382-bef8-9160a2fc9940"
      },
      "execution_count": null,
      "outputs": [
        {
          "output_type": "execute_result",
          "data": {
            "text/plain": [
              "<Figure size 884.793x367.889 with 1 Axes>"
            ],
            "image/png": "[encoded data removed]"
          },
          "metadata": {},
          "execution_count": 17
        }
      ]
    },
    {
      "cell_type": "markdown",
      "source": [
        "# Record Results"
      ],
      "metadata": {
        "id": "IbGvfAqUOWmz"
      }
    },
    {
      "cell_type": "code",
      "source": [
        "results = []\n",
        "for i in range(numberOfCircuits):\n",
        "    simulator = Aer.get_backend('qasm_simulator')\n",
        "    backend = BasicProvider().get_backend('basic_simulator')\n",
        "    transpiled_circuit = transpile(circuits_measurement[i], backend)\n",
        "\n",
        "    result = backend.run(transpiled_circuit, shots=1).result()\n",
        "    results.append(result)"
      ],
      "metadata": {
        "id": "jNUHRhclOcSY"
      },
      "execution_count": null,
      "outputs": []
    },
    {
      "cell_type": "code",
      "source": [
        "results[1].get_counts()"
      ],
      "metadata": {
        "colab": {
          "base_uri": "https://localhost:8080/"
        },
        "id": "VCwU1gOqPAmr",
        "outputId": "23072869-6f92-4e7c-ecc7-06840bc5edb0"
      },
      "execution_count": null,
      "outputs": [
        {
          "output_type": "execute_result",
          "data": {
            "text/plain": [
              "{'011': 1}"
            ]
          },
          "metadata": {},
          "execution_count": 19
        }
      ]
    },
    {
      "cell_type": "code",
      "source": [
        "aliceresults = [] # Alice's results (string a)\n",
        "bobresults = [] # Bob's results (string a')\n",
        "charlieresults = [] # Charlie's results (string a'')\n",
        "for i in range(numberOfCircuits):\n",
        "  res = str(list(results[i].get_counts().keys())[0])\n",
        "  aliceresults.append(int(res[0]))\n",
        "  bobresults.append(int(res[1]))\n",
        "  charlieresults.append(int(res[2]))"
      ],
      "metadata": {
        "id": "KdJtL5MnPSlZ"
      },
      "execution_count": null,
      "outputs": []
    },
    {
      "cell_type": "markdown",
      "source": [
        "#Find a W state that has been measured by Z basis by all parties"
      ],
      "metadata": {
        "id": "U8X4QSdMQKX9"
      }
    },
    {
      "cell_type": "code",
      "source": [
        "indices = [\n",
        "    i for i in range(len(random_list))\n",
        "    if random_list[i] == 1\n",
        "    and aliceMeasurementChoices[i] == 2\n",
        "    and bobMeasurementChoices[i] == 2\n",
        "    and charlieMeasurementChoices[i] == 2\n",
        "]\n",
        "# pick one randomly\n",
        "choice = random.choice(indices)\n",
        "print(\"Choice: \",choice)"
      ],
      "metadata": {
        "colab": {
          "base_uri": "https://localhost:8080/"
        },
        "id": "oWOkNI3WQQvi",
        "outputId": "0ba9b57e-2092-48c5-e4f9-5dcc4db1a3dc"
      },
      "execution_count": null,
      "outputs": [
        {
          "output_type": "stream",
          "name": "stdout",
          "text": [
            "Choice:  172\n"
          ]
        }
      ]
    },
    {
      "cell_type": "markdown",
      "source": [
        "#Check whether only one party received 1, others 0.\n",
        "\n"
      ],
      "metadata": {
        "id": "N9_Y1xRDtNI4"
      }
    },
    {
      "cell_type": "code",
      "source": [
        "print(f\"Alice: {aliceresults[choice]}, Bob: {bobresults[choice]}, Charlie: {charlieresults[choice]}\")\n"
      ],
      "metadata": {
        "colab": {
          "base_uri": "https://localhost:8080/"
        },
        "id": "xmEj_PmXtLEh",
        "outputId": "dca246db-dfb7-4c7b-c6db-84272ff4a24b"
      },
      "execution_count": null,
      "outputs": [
        {
          "output_type": "stream",
          "name": "stdout",
          "text": [
            "Alice: 0, Bob: 0, Charlie: 1\n"
          ]
        }
      ]
    },
    {
      "cell_type": "markdown",
      "source": [
        "# Now Charlie will tell Alice about her measurement result on the randomly chosen qubit"
      ],
      "metadata": {
        "id": "fPLLOmJPQ7s2"
      }
    },
    {
      "cell_type": "code",
      "source": [
        "#Alice will infer Bob's measurement from Charlie's message\n",
        "\n",
        "if charlieresults[choice] == aliceresults[choice]:\n",
        "  aliceKey = 1\n",
        "else:\n",
        "  aliceKey = 0\n",
        "print(aliceKey)\n"
      ],
      "metadata": {
        "colab": {
          "base_uri": "https://localhost:8080/"
        },
        "id": "liH_j8bhRF5b",
        "outputId": "89bcea52-bc2e-4b9d-dd49-cf55dcbd7821"
      },
      "execution_count": null,
      "outputs": [
        {
          "output_type": "stream",
          "name": "stdout",
          "text": [
            "0\n"
          ]
        }
      ]
    },
    {
      "cell_type": "markdown",
      "source": [
        "Alice infers a secret key bit based on her own measurement result and a public message from Charlie."
      ],
      "metadata": {
        "id": "hU5sJLtsEH0h"
      }
    },
    {
      "cell_type": "code",
      "source": [
        "print(\"Bob has this key\", bobresults)\n",
        "print(\"Alice only has one key: \", aliceKey)"
      ],
      "metadata": {
        "colab": {
          "base_uri": "https://localhost:8080/"
        },
        "id": "arvFCjNDRxQN",
        "outputId": "be3ad53e-977d-4d50-a7cd-d29e51a6dcaa"
      },
      "execution_count": null,
      "outputs": [
        {
          "output_type": "stream",
          "name": "stdout",
          "text": [
            "Bob has this key [0, 1, 0, 0, 0, 1, 0, 0, 1, 0, 1, 0, 0, 1, 1, 1, 0, 1, 1, 0, 1, 1, 0, 0, 0, 1, 1, 0, 0, 1, 0, 0, 0, 1, 1, 1, 0, 1, 0, 1, 0, 1, 1, 0, 0, 1, 1, 0, 1, 0, 0, 0, 0, 1, 0, 1, 1, 0, 0, 1, 0, 0, 0, 1, 0, 0, 0, 0, 0, 1, 0, 0, 0, 1, 0, 0, 1, 0, 0, 1, 1, 1, 0, 0, 0, 0, 1, 1, 1, 0, 1, 0, 1, 1, 1, 0, 1, 1, 1, 0, 1, 0, 1, 1, 0, 0, 0, 1, 0, 0, 0, 0, 0, 1, 1, 0, 0, 0, 0, 1, 1, 1, 1, 1, 0, 0, 0, 0, 0, 0, 1, 1, 1, 0, 0, 0, 0, 1, 0, 0, 1, 1, 0, 1, 0, 1, 1, 1, 0, 0, 1, 1, 0, 0, 0, 1, 0, 1, 1, 0, 0, 1, 0, 0, 1, 0, 0, 1, 0, 1, 0, 0, 0, 0, 0, 0, 0, 1, 1, 0, 0, 0, 0, 0, 0, 0, 0, 0, 0, 0, 0, 1, 0, 1, 0, 0, 0, 0, 0, 1]\n",
            "Alice only has one key:  0\n"
          ]
        }
      ]
    },
    {
      "cell_type": "markdown",
      "source": [
        "# Use a real database and preprocess it to binary format"
      ],
      "metadata": {
        "id": "8bHypzAaxm9F"
      }
    },
    {
      "cell_type": "code",
      "source": [
        "import pandas as pd\n",
        "\n",
        "# Load the dataset\n",
        "df = pd.read_csv(\"breast_cancer.csv\")\n",
        "\n",
        "# Show first few rows\n",
        "print(df.head())\n",
        "\n",
        "# Convert diagnosis column to binary: M = 1, B = 0\n",
        "binary_data = (df[\"diagnosis\"] == \"M\").astype(int).tolist()\n",
        "\n",
        "# Limit to the first 200 bits for simplicity\n",
        "database = binary_data[:200]\n",
        "\n",
        "print(f\"Binary database created with {len(database)} bits.\")\n",
        "print(database[:50])  # Preview first 10 bits"
      ],
      "metadata": {
        "colab": {
          "base_uri": "https://localhost:8080/"
        },
        "id": "nMFs5DtGygX2",
        "outputId": "d0d82598-4ee9-44b0-e674-47f11b0cb714"
      },
      "execution_count": null,
      "outputs": [
        {
          "output_type": "stream",
          "name": "stdout",
          "text": [
            "         id diagnosis  radius_mean  texture_mean  perimeter_mean  area_mean  \\\n",
            "0    842302         M        17.99         10.38          122.80     1001.0   \n",
            "1    842517         M        20.57         17.77          132.90     1326.0   \n",
            "2  84300903         M        19.69         21.25          130.00     1203.0   \n",
            "3  84348301         M        11.42         20.38           77.58      386.1   \n",
            "4  84358402         M        20.29         14.34          135.10     1297.0   \n",
            "\n",
            "   smoothness_mean  compactness_mean  concavity_mean  concave points_mean  \\\n",
            "0          0.11840           0.27760          0.3001              0.14710   \n",
            "1          0.08474           0.07864          0.0869              0.07017   \n",
            "2          0.10960           0.15990          0.1974              0.12790   \n",
            "3          0.14250           0.28390          0.2414              0.10520   \n",
            "4          0.10030           0.13280          0.1980              0.10430   \n",
            "\n",
            "   ...  texture_worst  perimeter_worst  area_worst  smoothness_worst  \\\n",
            "0  ...          17.33           184.60      2019.0            0.1622   \n",
            "1  ...          23.41           158.80      1956.0            0.1238   \n",
            "2  ...          25.53           152.50      1709.0            0.1444   \n",
            "3  ...          26.50            98.87       567.7            0.2098   \n",
            "4  ...          16.67           152.20      1575.0            0.1374   \n",
            "\n",
            "   compactness_worst  concavity_worst  concave points_worst  symmetry_worst  \\\n",
            "0             0.6656           0.7119                0.2654          0.4601   \n",
            "1             0.1866           0.2416                0.1860          0.2750   \n",
            "2             0.4245           0.4504                0.2430          0.3613   \n",
            "3             0.8663           0.6869                0.2575          0.6638   \n",
            "4             0.2050           0.4000                0.1625          0.2364   \n",
            "\n",
            "   fractal_dimension_worst  Unnamed: 32  \n",
            "0                  0.11890          NaN  \n",
            "1                  0.08902          NaN  \n",
            "2                  0.08758          NaN  \n",
            "3                  0.17300          NaN  \n",
            "4                  0.07678          NaN  \n",
            "\n",
            "[5 rows x 33 columns]\n",
            "Binary database created with 200 bits.\n",
            "[1, 1, 1, 1, 1, 1, 1, 1, 1, 1, 1, 1, 1, 1, 1, 1, 1, 1, 1, 0, 0, 0, 1, 1, 1, 1, 1, 1, 1, 1, 1, 1, 1, 1, 1, 1, 1, 0, 1, 1, 1, 1, 1, 1, 1, 1, 0, 1, 0, 0]\n"
          ]
        }
      ]
    },
    {
      "cell_type": "code",
      "source": [
        "# Alice's queries\n",
        "def alice_query_phase(alice_key,known_key_position,queried_bit_position):\n",
        "    s = known_key_position - queried_bit_position\n",
        "    return s\n",
        "\n",
        "#Bob encodes\n",
        "def bob_encode_response(database,s, bob_key_sequence):\n",
        "    encoded_sequence = []\n",
        "    for i in range(len(database)):\n",
        "        shifted_key = bob_key_sequence[(i + s) % len(bob_key_sequence)]\n",
        "        encoded_bit = database[i] ^ int(shifted_key)\n",
        "        encoded_sequence.append(encoded_bit)\n",
        "    return encoded_sequence\n",
        "\n",
        "# Alice decodes the bit\n",
        "def alice_decode_response(encoded_bit, alice_key):\n",
        "    decoded_bit = encoded_bit ^ int(alice_key)\n",
        "    return decoded_bit\n",
        "\n",
        "\n",
        "known_key_position = choice # choice is the qubit that was chosen randomly before\n",
        "queried_bit_position = random.randint(0, len(database) - 1) # We choose a query position randomly\n",
        "print(f\"Alice wants to query the bit at position {queried_bit_position} in the database.\")\n",
        "\n",
        "# Alice calculates s\n",
        "s = alice_query_phase(aliceKey,known_key_position,queried_bit_position)\n",
        "\n",
        "#Bob encodes the database\n",
        "bob_key_sequence = bobresults\n",
        "encoded_sequence = bob_encode_response(database,s, bob_key_sequence)\n",
        "\n",
        "# Step 3 : Alice decodes the bit she is interested in\n",
        "alice_decoded_bit = alice_decode_response(encoded_sequence[queried_bit_position], aliceKey)\n",
        "\n",
        "print(f\"Alice's decoded bit: {alice_decoded_bit} (Expected: {database[queried_bit_position]})\")\n"
      ],
      "metadata": {
        "colab": {
          "base_uri": "https://localhost:8080/"
        },
        "id": "_Suil9QA3QhR",
        "outputId": "82075341-6f37-45da-f504-b7cefc76a7ed"
      },
      "execution_count": null,
      "outputs": [
        {
          "output_type": "stream",
          "name": "stdout",
          "text": [
            "Alice wants to query the bit at position 184 in the database.\n",
            "Alice's decoded bit: 1 (Expected: 1)\n"
          ]
        }
      ]
    },
    {
      "cell_type": "markdown",
      "source": [
        "So Alice, knowing s and her key bit, can recover only one bit (the one she queried) and learns nothing about others."
      ],
      "metadata": {
        "id": "DOjaIPs-Ps42"
      }
    },
    {
      "cell_type": "markdown",
      "source": [
        "# Implementing multiple queries and calculating success rate"
      ],
      "metadata": {
        "id": "2a0xd7vr0s6E"
      }
    },
    {
      "cell_type": "code",
      "source": [
        "def run_qpq_multiple_queries(database, w_indices, alice_results, bob_results, charlie_results, alice_choices, bob_choices, charlie_choices, num_queries):\n",
        "    successful_queries = 0\n",
        "    total_queries = 0\n",
        "\n",
        "    for idx in w_indices:\n",
        "        # Only proceed if this is a valid W state and all used Z basis\n",
        "        if (alice_choices[idx] == 2 and bob_choices[idx] == 2 and charlie_choices[idx] == 2):\n",
        "            alice_bit = alice_results[idx]\n",
        "            bob_bit = bob_results[idx]\n",
        "            charlie_bit = charlie_results[idx]\n",
        "\n",
        "            # Alice infers key\n",
        "            alice_key = 1 if alice_bit == charlie_bit else 0\n",
        "\n",
        "            # Use this as the known key position\n",
        "            known_key_pos = idx\n",
        "            queried_pos = random.randint(0, len(database)-1)\n",
        "\n",
        "            s = known_key_pos - queried_pos\n",
        "\n",
        "            # Bob encodes\n",
        "            encoded_db = bob_encode_response(database, s, bob_results)\n",
        "\n",
        "            # Alice decodes the bit she wants\n",
        "            alice_decoded = alice_decode_response(encoded_db[queried_pos], alice_key)\n",
        "\n",
        "            if alice_decoded == database[queried_pos]:\n",
        "                successful_queries += 1\n",
        "\n",
        "            total_queries += 1\n",
        "            if total_queries == num_queries:\n",
        "                break\n",
        "\n",
        "    return successful_queries, total_queries\n"
      ],
      "metadata": {
        "id": "uaBIszld0sFi"
      },
      "execution_count": null,
      "outputs": []
    },
    {
      "cell_type": "code",
      "source": [
        "success, total = run_qpq_multiple_queries(\n",
        "    database,\n",
        "    indices,\n",
        "    aliceresults,\n",
        "    bobresults,\n",
        "    charlieresults,\n",
        "    aliceMeasurementChoices,\n",
        "    bobMeasurementChoices,\n",
        "    charlieMeasurementChoices,\n",
        "    num_queries=50\n",
        ")\n",
        "\n",
        "print(f\"Successfully retrieved {success}/{total} bits ({100*success/total:.2f}% accuracy)\")\n"
      ],
      "metadata": {
        "colab": {
          "base_uri": "https://localhost:8080/"
        },
        "id": "xUPrdQOJ1hY0",
        "outputId": "1d0e71f5-3911-4cb2-f8ed-43dedb493647"
      },
      "execution_count": null,
      "outputs": [
        {
          "output_type": "stream",
          "name": "stdout",
          "text": [
            "Successfully retrieved 20/20 bits (100.00% accuracy)\n"
          ]
        }
      ]
    },
    {
      "cell_type": "markdown",
      "source": [
        "# Integrate NoiseModel into QPQ"
      ],
      "metadata": {
        "id": "ozPkMy3Gp2q9"
      }
    },
    {
      "cell_type": "code",
      "source": [
        "from qiskit_aer.noise import NoiseModel, pauli_error, depolarizing_error\n",
        "\n",
        "def get_noise(p_gate, p_measure):\n",
        "    measure_error = pauli_error([('X', p_measure), ('I', 1 - p_measure)])\n",
        "    error_gate1 = depolarizing_error(p_gate, 1)\n",
        "    error_gate2 = depolarizing_error(p_gate, 2)\n",
        "\n",
        "    noise_model = NoiseModel()\n",
        "    noise_model.add_all_qubit_quantum_error(measure_error, \"measure\")\n",
        "    noise_model.add_all_qubit_quantum_error(error_gate1, [\"x\", \"h\", \"ry\"])\n",
        "    noise_model.add_all_qubit_quantum_error(error_gate2, [\"cx\", \"ch\"])\n",
        "\n",
        "    return noise_model"
      ],
      "metadata": {
        "id": "PSlttECPp9_r"
      },
      "execution_count": null,
      "outputs": []
    },
    {
      "cell_type": "code",
      "metadata": {
        "colab": {
          "base_uri": "https://localhost:8080/"
        },
        "id": "75ffea9f",
        "outputId": "cf016a82-6cee-44b8-c887-05810eb65a52"
      },
      "source": [
        "!pip show qiskit qiskit-aer"
      ],
      "execution_count": null,
      "outputs": [
        {
          "output_type": "stream",
          "name": "stdout",
          "text": [
            "Name: qiskit\n",
            "Version: 2.1.0\n",
            "Summary: An open-source SDK for working with quantum computers at the level of extended quantum circuits, operators, and primitives.\n",
            "Home-page: https://www.ibm.com/quantum/qiskit\n",
            "Author: \n",
            "Author-email: Qiskit Development Team <qiskit@us.ibm.com>\n",
            "License: Apache 2.0\n",
            "Location: /usr/local/lib/python3.11/dist-packages\n",
            "Requires: dill, numpy, rustworkx, scipy, stevedore, typing-extensions\n",
            "Required-by: qiskit-aer\n",
            "---\n",
            "Name: qiskit-aer\n",
            "Version: 0.17.1\n",
            "Summary: Aer - High performance simulators for Qiskit\n",
            "Home-page: https://github.com/Qiskit/qiskit-aer\n",
            "Author: AER Development Team\n",
            "Author-email: qiskit@us.ibm.com\n",
            "License: Apache 2.0\n",
            "Location: /usr/local/lib/python3.11/dist-packages\n",
            "Requires: numpy, psutil, python-dateutil, qiskit, scipy\n",
            "Required-by: \n"
          ]
        }
      ]
    },
    {
      "cell_type": "markdown",
      "source": [
        "# Simulate All Circuits Under Noise"
      ],
      "metadata": {
        "id": "ogw1jENRsKJ7"
      }
    },
    {
      "cell_type": "code",
      "source": [
        "from qiskit_aer import AerSimulator\n",
        "from qiskit import transpile\n",
        "\n",
        "def simulate_with_noise(circuits_measurement, noise_model):\n",
        "    results = []\n",
        "    simulator = AerSimulator(noise_model=noise_model)\n",
        "\n",
        "    for i in range(len(circuits_measurement)):\n",
        "        transpiled = transpile(circuits_measurement[i], simulator)\n",
        "        result = simulator.run(transpiled, shots=1).result()\n",
        "        results.append(result)\n",
        "\n",
        "    return results\n",
        "\n"
      ],
      "metadata": {
        "id": "HxsWxfkIr20V"
      },
      "execution_count": null,
      "outputs": []
    },
    {
      "cell_type": "code",
      "source": [
        "def extract_measurements(results):\n",
        "    aliceresults = []\n",
        "    bobresults = []\n",
        "    charlieresults = []\n",
        "\n",
        "    for i in range(len(results)):\n",
        "        outcome = str(list(results[i].get_counts().keys())[0])\n",
        "        aliceresults.append(int(outcome[0]))\n",
        "        bobresults.append(int(outcome[1]))\n",
        "        charlieresults.append(int(outcome[2]))\n",
        "\n",
        "    return aliceresults, bobresults, charlieresults\n"
      ],
      "metadata": {
        "id": "BYPwTXobs12O"
      },
      "execution_count": null,
      "outputs": []
    },
    {
      "cell_type": "markdown",
      "source": [
        "# Loop over both p_gate and p_measure and generate a heatmap of QPQ accuracy."
      ],
      "metadata": {
        "id": "-A8C1RpKwivv"
      }
    },
    {
      "cell_type": "code",
      "source": [
        "import numpy as np\n",
        "import matplotlib.pyplot as plt\n",
        "\n",
        "# Define noise level ranges\n",
        "p_gate_values = [0.0, 0.01, 0.03, 0.05, 0.07, 0.1]\n",
        "p_measure_values = [0.0, 0.01, 0.03, 0.05, 0.07, 0.1]\n",
        "\n",
        "# Initialize results matrix\n",
        "accuracy_matrix = np.zeros((len(p_gate_values), len(p_measure_values)))\n",
        "\n",
        "# Loop over both p_gate and p_measure\n",
        "for i, p_gate in enumerate(p_gate_values):\n",
        "    for j, p_measure in enumerate(p_measure_values):\n",
        "        print(f\"Running QPQ for p_gate={p_gate}, p_measure={p_measure}...\")\n",
        "\n",
        "        noise_model = get_noise(p_gate=p_gate, p_measure=p_measure)\n",
        "        noisy_results = simulate_with_noise(circuits_measurement, noise_model)\n",
        "        aliceresults, bobresults, charlieresults = extract_measurements(noisy_results)\n",
        "\n",
        "        success, total = run_qpq_multiple_queries(\n",
        "            database,\n",
        "            indices,\n",
        "            aliceresults,\n",
        "            bobresults,\n",
        "            charlieresults,\n",
        "            aliceMeasurementChoices,\n",
        "            bobMeasurementChoices,\n",
        "            charlieMeasurementChoices,\n",
        "            num_queries=50\n",
        "        )\n",
        "\n",
        "        accuracy = 100 * success / total\n",
        "        accuracy_matrix[i, j] = accuracy\n"
      ],
      "metadata": {
        "colab": {
          "base_uri": "https://localhost:8080/"
        },
        "id": "0tg8D2BswNr1",
        "outputId": "31621287-7edc-45fb-a856-5bb6cd16e5bf"
      },
      "execution_count": null,
      "outputs": [
        {
          "output_type": "stream",
          "name": "stdout",
          "text": [
            "Running QPQ for p_gate=0.0, p_measure=0.0...\n",
            "Running QPQ for p_gate=0.0, p_measure=0.01...\n",
            "Running QPQ for p_gate=0.0, p_measure=0.03...\n",
            "Running QPQ for p_gate=0.0, p_measure=0.05...\n",
            "Running QPQ for p_gate=0.0, p_measure=0.07...\n",
            "Running QPQ for p_gate=0.0, p_measure=0.1...\n",
            "Running QPQ for p_gate=0.01, p_measure=0.0...\n",
            "Running QPQ for p_gate=0.01, p_measure=0.01...\n",
            "Running QPQ for p_gate=0.01, p_measure=0.03...\n",
            "Running QPQ for p_gate=0.01, p_measure=0.05...\n",
            "Running QPQ for p_gate=0.01, p_measure=0.07...\n",
            "Running QPQ for p_gate=0.01, p_measure=0.1...\n",
            "Running QPQ for p_gate=0.03, p_measure=0.0...\n",
            "Running QPQ for p_gate=0.03, p_measure=0.01...\n",
            "Running QPQ for p_gate=0.03, p_measure=0.03...\n",
            "Running QPQ for p_gate=0.03, p_measure=0.05...\n",
            "Running QPQ for p_gate=0.03, p_measure=0.07...\n",
            "Running QPQ for p_gate=0.03, p_measure=0.1...\n",
            "Running QPQ for p_gate=0.05, p_measure=0.0...\n",
            "Running QPQ for p_gate=0.05, p_measure=0.01...\n",
            "Running QPQ for p_gate=0.05, p_measure=0.03...\n",
            "Running QPQ for p_gate=0.05, p_measure=0.05...\n",
            "Running QPQ for p_gate=0.05, p_measure=0.07...\n",
            "Running QPQ for p_gate=0.05, p_measure=0.1...\n",
            "Running QPQ for p_gate=0.07, p_measure=0.0...\n",
            "Running QPQ for p_gate=0.07, p_measure=0.01...\n",
            "Running QPQ for p_gate=0.07, p_measure=0.03...\n",
            "Running QPQ for p_gate=0.07, p_measure=0.05...\n",
            "Running QPQ for p_gate=0.07, p_measure=0.07...\n",
            "Running QPQ for p_gate=0.07, p_measure=0.1...\n",
            "Running QPQ for p_gate=0.1, p_measure=0.0...\n",
            "Running QPQ for p_gate=0.1, p_measure=0.01...\n",
            "Running QPQ for p_gate=0.1, p_measure=0.03...\n",
            "Running QPQ for p_gate=0.1, p_measure=0.05...\n",
            "Running QPQ for p_gate=0.1, p_measure=0.07...\n",
            "Running QPQ for p_gate=0.1, p_measure=0.1...\n"
          ]
        }
      ]
    },
    {
      "cell_type": "code",
      "source": [
        "# Plotting the heatmap\n",
        "fig, ax = plt.subplots(figsize=(8, 6))\n",
        "im = ax.imshow(accuracy_matrix, cmap='YlGnBu', origin='lower')\n",
        "\n",
        "# Show all ticks and label them\n",
        "ax.set_xticks(np.arange(len(p_measure_values)))\n",
        "ax.set_yticks(np.arange(len(p_gate_values)))\n",
        "ax.set_xticklabels([f\"{int(p*100)}%\" for p in p_measure_values])\n",
        "ax.set_yticklabels([f\"{int(p*100)}%\" for p in p_gate_values])\n",
        "\n",
        "# Label axes\n",
        "ax.set_xlabel(\"Measurement Error (p_measure)\")\n",
        "ax.set_ylabel(\"Gate Error (p_gate)\")\n",
        "ax.set_title(\"QPQ Success Rate Heatmap\")\n",
        "\n",
        "# Loop over data dimensions and create text annotations\n",
        "for i in range(len(p_gate_values)):\n",
        "    for j in range(len(p_measure_values)):\n",
        "        text = ax.text(j, i, f\"{accuracy_matrix[i, j]:.1f}%\",\n",
        "                       ha=\"center\", va=\"center\", color=\"black\")\n",
        "\n",
        "fig.colorbar(im, ax=ax, label='Success Rate (%)')\n",
        "plt.tight_layout()\n",
        "plt.show()\n"
      ],
      "metadata": {
        "colab": {
          "base_uri": "https://localhost:8080/",
          "height": 607
        },
        "id": "eqBMw0aDydKW",
        "outputId": "6b42b50e-dabe-419d-d1f7-1d64e50067cf"
      },
      "execution_count": null,
      "outputs": [
        {
          "output_type": "display_data",
          "data": {
            "text/plain": [
              "<Figure size 800x600 with 2 Axes>"
            ],
            "image/png": "[encoded data removed]"
          },
          "metadata": {}
        }
      ]
    },
    {
      "cell_type": "markdown",
      "source": [
        "The heatmap shows that our QPQ protocol using W-state entanglement is:\n",
        "*   Highly accurate and reliable in low-noise NISQ environments\n",
        "*   Tolerant to moderate gate errors\n",
        "*   More sensitive to measurement noise than gate noise\n",
        "*   Reasonably robust up to moderate error rates (≤3%)\n",
        "\n",
        "\n",
        "\n",
        "\n",
        "\n",
        "\n",
        "\n",
        "\n"
      ],
      "metadata": {
        "id": "EVyzClb9E8ss"
      }
    }
  ]
}